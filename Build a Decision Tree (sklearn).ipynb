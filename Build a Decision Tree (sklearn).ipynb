{
  "nbformat": 4,
  "nbformat_minor": 0,
  "metadata": {
    "colab": {
      "provenance": []
    },
    "kernelspec": {
      "name": "python3",
      "display_name": "Python 3"
    },
    "language_info": {
      "name": "python"
    }
  },
  "cells": [
    {
      "cell_type": "code",
      "execution_count": 1,
      "metadata": {
        "id": "fPqd5UxgBc8I",
        "outputId": "ed54addd-752b-4bb2-add4-7dddc7560b90",
        "colab": {
          "base_uri": "https://localhost:8080/"
        }
      },
      "outputs": [
        {
          "output_type": "stream",
          "name": "stdout",
          "text": [
            "Depth | Training Accuracy | Test Accuracy\n",
            "1     | 0.6667           | 0.6667\n",
            "2     | 0.9714           | 0.8889\n",
            "3     | 0.9810           | 0.9778\n"
          ]
        }
      ],
      "source": [
        "# Import libraries\n",
        "from sklearn.datasets import load_iris\n",
        "from sklearn.model_selection import train_test_split\n",
        "from sklearn.tree import DecisionTreeClassifier\n",
        "from sklearn.metrics import accuracy_score\n",
        "\n",
        "# 1. Load Iris dataset\n",
        "iris = load_iris()\n",
        "X, y = iris.data, iris.target\n",
        "\n",
        "# Split into training (70%) and test (30%)\n",
        "X_train, X_test, y_train, y_test = train_test_split(X, y, test_size=0.3, random_state=42, stratify=y)\n",
        "\n",
        "# Train trees with different depths\n",
        "depths = [1, 2, 3]\n",
        "results = []\n",
        "\n",
        "for d in depths:\n",
        "    clf = DecisionTreeClassifier(max_depth=d, random_state=42)\n",
        "    clf.fit(X_train, y_train)\n",
        "\n",
        "    # Predict on train and test sets\n",
        "    y_train_pred = clf.predict(X_train)\n",
        "    y_test_pred = clf.predict(X_test)\n",
        "\n",
        "    # Compute accuracy\n",
        "    train_acc = accuracy_score(y_train, y_train_pred)\n",
        "    test_acc = accuracy_score(y_test, y_test_pred)\n",
        "\n",
        "    results.append((d, train_acc, test_acc))\n",
        "\n",
        "# Display results\n",
        "print(\"Depth | Training Accuracy | Test Accuracy\")\n",
        "for d, train_acc, test_acc in results:\n",
        "    print(f\"{d:<5} | {train_acc:.4f}           | {test_acc:.4f}\")\n"
      ]
    }
  ]
}